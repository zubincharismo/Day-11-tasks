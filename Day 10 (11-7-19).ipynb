{
 "cells": [
  {
   "cell_type": "code",
   "execution_count": 10,
   "metadata": {},
   "outputs": [
    {
     "name": "stdout",
     "output_type": "stream",
     "text": [
      "file has been created and data is written\n"
     ]
    }
   ],
   "source": [
    "#function to write and create a file\n",
    "def createf(filename):\n",
    "    f=open(filename,'w')\n",
    "    for i in range(10):\n",
    "        f.write('this is %d line'%i)\n",
    "    print(\"file has been created and data is written\")\n",
    "    return\n",
    "createf(\"filename\")"
   ]
  },
  {
   "cell_type": "code",
   "execution_count": 6,
   "metadata": {
    "scrolled": true
   },
   "outputs": [
    {
     "name": "stdout",
     "output_type": "stream",
     "text": [
      " Volume in drive C has no label.\n",
      " Volume Serial Number is 28C9-6826\n",
      "\n",
      " Directory of C:\\Users\\Asus\\Downloads\n",
      "\n",
      "07/11/2019  09:38 AM    <DIR>          .\n",
      "07/11/2019  09:38 AM    <DIR>          ..\n",
      "07/11/2019  09:05 AM    <DIR>          .ipynb_checkpoints\n",
      "05/07/2019  07:35 AM             2,575 activator.cmd\n",
      "10/16/2018  01:33 AM            14,586 Assassin's.Creed.II - RELOADED.torrent\n",
      "07/10/2019  03:20 PM             4,786 assignment(10-7-19).ipynb\n",
      "07/10/2019  02:56 PM           122,081 assignment(10-7-19).pdf\n",
      "05/31/2019  10:13 AM            17,066 Call.of.Duty.4.Modern.Warfare - RELOADED.torrent\n",
      "05/21/2019  12:33 AM         2,043,232 chromeinstall-8u211.exe\n",
      "07/11/2019  09:36 AM               835 Day 10 (11-7-19).ipynb\n",
      "07/05/2019  03:22 AM            15,871 day 5(5-7-19).ipynb\n",
      "07/08/2019  09:59 AM            16,343 Day 7(8-7-19).ipynb\n",
      "07/10/2019  11:48 AM             9,728 Day 8 (9-7-19).ipynb\n",
      "07/10/2019  03:48 PM            10,895 Day 9(10-9-19).ipynb\n",
      "07/10/2019  01:07 PM           108,305 Day 9(10-9-19).pdf\n",
      "05/07/2019  07:43 AM        50,433,966 Dev-Cpp 5.11 TDM-GCC 4.9.2 Setup.exe\n",
      "07/08/2019  09:36 AM            10,243 factors.png\n",
      "07/11/2019  09:38 AM               160 filename\n",
      "07/10/2019  09:37 AM           187,086 G3YUJoT-assasins-creed-wallpaper.jpg\n",
      "07/04/2019  02:18 AM    <DIR>          gitsolve\n",
      "07/10/2019  09:42 AM         7,641,537 ian-schneider-TamMbr4okv4-unsplash.jpg\n",
      "07/07/2019  06:08 AM               971 leap year.ipynb\n",
      "08/29/2018  08:56 AM         4,874,240 M5 Port-Ship interface IMO TTT course presentation final1.ppt\n",
      "05/21/2019  12:32 AM         1,478,560 Minecraft Team Extreme Launcher Repack By Mashup.rar\n",
      "05/21/2019  12:28 AM            14,129 Minecraft.PC.torrent\n",
      "07/10/2019  09:48 AM           158,962 minecraft_background_graphics_green_21194_1366x768.jpg\n",
      "06/09/2019  02:17 AM         1,957,888 MinecraftInstaller.msi\n",
      "07/10/2019  10:04 AM           401,059 orange_ice_mint_139564_1366x768.jpg\n",
      "07/08/2019  09:46 AM            11,397 primeornot.png\n",
      "07/08/2019  09:36 AM    <DIR>          Pythontasks\n",
      "07/08/2019  09:20 AM            20,736 raptor 26(cp).rap\n",
      "07/02/2019  06:49 PM         3,508,224 raptor2016.msi\n",
      "05/14/2019  01:55 AM        13,338,017 rar_password_unlocker_trial.exe\n",
      "05/25/2019  10:37 AM        16,261,344 RevoUninProSetup.exe\n",
      "07/08/2019  09:50 AM             4,971 s1.png\n",
      "07/08/2019  09:50 AM            10,157 s2.png\n",
      "07/08/2019  09:55 AM             8,813 s3.png\n",
      "07/08/2019  09:56 AM            11,629 s4.png\n",
      "07/04/2019  08:41 PM           223,485 Scratch Project.sb3\n",
      "05/06/2019  08:06 AM    <DIR>          SHAREit\n",
      "05/06/2019  08:04 AM         6,449,464 SHAREit-KCWEB.exe\n",
      "06/14/2019  12:46 AM         6,517,770 SleepingDogsFix by GAMESFIXER.rar\n",
      "06/09/2019  02:30 AM        15,304,528 TLauncher-2.53-Installer-0.5.2.exe\n",
      "05/25/2019  11:16 AM           221,237 ubiorbitapi_r2.rar\n",
      "07/08/2019  04:50 AM           343,040 UNIT IV Theory.doc\n",
      "06/09/2019  02:22 AM        32,354,788 vanilla-latest.zip\n",
      "07/10/2019  09:38 AM            34,956 XvGYyob-assassins-creed-hd-wallpaper.jpg\n",
      "              41 File(s)    164,149,660 bytes\n",
      "               6 Dir(s)  146,983,587,840 bytes free\n"
     ]
    }
   ],
   "source": [
    "ls"
   ]
  },
  {
   "cell_type": "code",
   "execution_count": 18,
   "metadata": {},
   "outputs": [
    {
     "ename": "SyntaxError",
     "evalue": "invalid syntax (<ipython-input-18-b44f6b0060b2>, line 1)",
     "output_type": "error",
     "traceback": [
      "\u001b[1;36m  File \u001b[1;32m\"<ipython-input-18-b44f6b0060b2>\"\u001b[1;36m, line \u001b[1;32m1\u001b[0m\n\u001b[1;33m    cat filename.txt\u001b[0m\n\u001b[1;37m               ^\u001b[0m\n\u001b[1;31mSyntaxError\u001b[0m\u001b[1;31m:\u001b[0m invalid syntax\n"
     ]
    }
   ],
   "source": [
    "cat filename.txt"
   ]
  },
  {
   "cell_type": "code",
   "execution_count": 36,
   "metadata": {},
   "outputs": [
    {
     "name": "stdout",
     "output_type": "stream",
     "text": [
      "success\n"
     ]
    }
   ],
   "source": [
    "def newfile(filename):\n",
    "    f=open(filename,'a')\n",
    "    f.write(\"yooo\\n\")\n",
    "    f.write(\"uihhho\")\n",
    "    print(\"success\")\n",
    "    return\n",
    "newfile(\"filename.txt\")\n",
    "    "
   ]
  },
  {
   "cell_type": "code",
   "execution_count": 37,
   "metadata": {},
   "outputs": [
    {
     "name": "stdout",
     "output_type": "stream",
     "text": [
      "yuouioyooouihhhoyooo\n",
      "uihhho\n"
     ]
    }
   ],
   "source": [
    "#function to read the file\n",
    "def readfile(filename):\n",
    "    f=open(filename,'r')\n",
    "    if f.mode=='r':\n",
    "        x=f.read()\n",
    "        print(x)\n",
    "    f.close()\n",
    "    return\n",
    "readfile('filename.txt')\n",
    "    \n",
    "    \n",
    "    \n"
   ]
  },
  {
   "cell_type": "code",
   "execution_count": 46,
   "metadata": {},
   "outputs": [
    {
     "name": "stdout",
     "output_type": "stream",
     "text": [
      "enter the filenamefilename.txt\n",
      "enter the worduihhho\n"
     ]
    },
    {
     "data": {
      "text/plain": [
       "1"
      ]
     },
     "execution_count": 46,
     "metadata": {},
     "output_type": "execute_result"
    }
   ],
   "source": [
    "def newword(filename,word):\n",
    "    with open(filename,'r') as f:\n",
    "        if f.mode=='r':\n",
    "            x=f.read()\n",
    "            l1=x.split()\n",
    "    cnt=l1.count(word)\n",
    "    return cnt\n",
    "filename=input(\"enter the filename\")\n",
    "word=input(\"enter the word\")\n",
    "newword(filename,word)"
   ]
  },
  {
   "cell_type": "code",
   "execution_count": 2,
   "metadata": {},
   "outputs": [
    {
     "name": "stdout",
     "output_type": "stream",
     "text": [
      "enter the filenamefilename.txt\n",
      "enter the charectero\n"
     ]
    },
    {
     "data": {
      "text/plain": [
       "10"
      ]
     },
     "execution_count": 2,
     "metadata": {},
     "output_type": "execute_result"
    }
   ],
   "source": [
    "#charecter count from the given file\n",
    "def charcount(filename,char):\n",
    "    with open(filename,'r') as f:\n",
    "        if f.mode=='r':\n",
    "            x=f.read()\n",
    "            l1=list(x)\n",
    "    cnt=l1.count(char)\n",
    "    return cnt\n",
    "filename=input(\"enter the filename\")\n",
    "char=input(\"enter the charecter\")\n",
    "charcount(filename,char)\n",
    "        "
   ]
  },
  {
   "cell_type": "code",
   "execution_count": 4,
   "metadata": {},
   "outputs": [
    {
     "data": {
      "text/plain": [
       "1"
      ]
     },
     "execution_count": 4,
     "metadata": {},
     "output_type": "execute_result"
    }
   ],
   "source": [
    "#function to find no of lines in input file\n",
    "def lines(filename):\n",
    "    cnt=0\n",
    "    with open(filename,'r') as f:\n",
    "        if f.mode=='r':\n",
    "            l=f.read()\n",
    "            for i in l:\n",
    "                if i=='\\n':\n",
    "                    cnt=cnt+1\n",
    "    return cnt\n",
    "lines('filename.txt')\n",
    "                    "
   ]
  },
  {
   "cell_type": "code",
   "execution_count": 8,
   "metadata": {},
   "outputs": [
    {
     "name": "stdout",
     "output_type": "stream",
     "text": [
      "enter the filename :filename.txt\n"
     ]
    },
    {
     "data": {
      "text/plain": [
       "2"
      ]
     },
     "execution_count": 8,
     "metadata": {},
     "output_type": "execute_result"
    }
   ],
   "source": [
    "def countlines(filename):\n",
    "    with open(filename,'r') as f:\n",
    "        if f.mode=='r':\n",
    "            x=f.read()\n",
    "            li=x.split(\"\\n\")\n",
    "    return len(li)\n",
    "filename=input('enter the filename :')\n",
    "countlines(filename)"
   ]
  },
  {
   "cell_type": "code",
   "execution_count": 11,
   "metadata": {},
   "outputs": [
    {
     "data": {
      "text/plain": [
       "'uppercase=0,lowercase=26'"
      ]
     },
     "execution_count": 11,
     "metadata": {},
     "output_type": "execute_result"
    }
   ],
   "source": [
    "#function  to print upprer and lower charecters\n",
    "def uplow(filename):\n",
    "    cntupper=0\n",
    "    cntlower=0\n",
    "    with open(filename,'r') as f:\n",
    "        if f.mode=='r':\n",
    "            x=f.read()\n",
    "            li=list(x)\n",
    "            for i in li:\n",
    "                if i.isupper():\n",
    "                    cntupper+=1\n",
    "                elif i.islower():\n",
    "                    cntlower+=1\n",
    "            output='uppercase={0},lowercase={1}'.format(cntupper,cntlower)\n",
    "            return output\n",
    "uplow('filename.txt')\n",
    "                        \n",
    "                "
   ]
  },
  {
   "cell_type": "code",
   "execution_count": 12,
   "metadata": {},
   "outputs": [
    {
     "ename": "SyntaxError",
     "evalue": "EOL while scanning string literal (<ipython-input-12-4fcac8c06da4>, line 1)",
     "output_type": "error",
     "traceback": [
      "\u001b[1;36m  File \u001b[1;32m\"<ipython-input-12-4fcac8c06da4>\"\u001b[1;36m, line \u001b[1;32m1\u001b[0m\n\u001b[1;33m    li = os>scandir('Downloads\\')\u001b[0m\n\u001b[1;37m                                 ^\u001b[0m\n\u001b[1;31mSyntaxError\u001b[0m\u001b[1;31m:\u001b[0m EOL while scanning string literal\n"
     ]
    }
   ],
   "source": [
    "li = os>scandir('Downloads\\')"
   ]
  },
  {
   "cell_type": "code",
   "execution_count": 1,
   "metadata": {},
   "outputs": [
    {
     "name": "stdout",
     "output_type": "stream",
     "text": [
      "C:\\Users\\Asus\n"
     ]
    }
   ],
   "source": [
    "cd"
   ]
  },
  {
   "cell_type": "code",
   "execution_count": 2,
   "metadata": {},
   "outputs": [
    {
     "name": "stdout",
     "output_type": "stream",
     "text": [
      "C:\\Users\\Asus\\downloads\n"
     ]
    }
   ],
   "source": [
    "cd downloads\n"
   ]
  },
  {
   "cell_type": "code",
   "execution_count": 3,
   "metadata": {},
   "outputs": [
    {
     "name": "stdout",
     "output_type": "stream",
     "text": [
      " Volume in drive C has no label.\n",
      " Volume Serial Number is 28C9-6826\n",
      "\n",
      " Directory of C:\\Users\\Asus\\downloads\n",
      "\n",
      "07/11/2019  12:52 PM    <DIR>          .\n",
      "07/11/2019  12:52 PM    <DIR>          ..\n",
      "07/11/2019  09:05 AM    <DIR>          .ipynb_checkpoints\n",
      "05/07/2019  07:35 AM             2,575 activator.cmd\n",
      "10/16/2018  01:33 AM            14,586 Assassin's.Creed.II - RELOADED.torrent\n",
      "07/10/2019  03:20 PM             4,786 assignment(10-7-19).ipynb\n",
      "07/10/2019  02:56 PM           122,081 assignment(10-7-19).pdf\n",
      "05/31/2019  10:13 AM            17,066 Call.of.Duty.4.Modern.Warfare - RELOADED.torrent\n",
      "05/21/2019  12:33 AM         2,043,232 chromeinstall-8u211.exe\n",
      "07/11/2019  12:52 PM            11,115 Day 10 (11-7-19).ipynb\n",
      "07/05/2019  03:22 AM            15,871 day 5(5-7-19).ipynb\n",
      "07/08/2019  09:59 AM            16,343 Day 7(8-7-19).ipynb\n",
      "07/10/2019  11:48 AM             9,728 Day 8 (9-7-19).ipynb\n",
      "07/10/2019  03:48 PM            10,895 Day 9(10-9-19).ipynb\n",
      "07/10/2019  01:07 PM           108,305 Day 9(10-9-19).pdf\n",
      "05/07/2019  07:43 AM        50,433,966 Dev-Cpp 5.11 TDM-GCC 4.9.2 Setup.exe\n",
      "07/08/2019  09:36 AM            10,243 factors.png\n",
      "07/11/2019  10:25 AM                28 filename.txt\n",
      "07/10/2019  09:37 AM           187,086 G3YUJoT-assasins-creed-wallpaper.jpg\n",
      "07/04/2019  02:18 AM    <DIR>          gitsolve\n",
      "07/10/2019  09:42 AM         7,641,537 ian-schneider-TamMbr4okv4-unsplash.jpg\n",
      "07/07/2019  06:08 AM               971 leap year.ipynb\n",
      "08/29/2018  08:56 AM         4,874,240 M5 Port-Ship interface IMO TTT course presentation final1.ppt\n",
      "05/21/2019  12:32 AM         1,478,560 Minecraft Team Extreme Launcher Repack By Mashup.rar\n",
      "05/21/2019  12:28 AM            14,129 Minecraft.PC.torrent\n",
      "07/10/2019  09:48 AM           158,962 minecraft_background_graphics_green_21194_1366x768.jpg\n",
      "06/09/2019  02:17 AM         1,957,888 MinecraftInstaller.msi\n",
      "07/10/2019  10:04 AM           401,059 orange_ice_mint_139564_1366x768.jpg\n",
      "07/08/2019  09:46 AM            11,397 primeornot.png\n",
      "07/08/2019  09:36 AM    <DIR>          Pythontasks\n",
      "07/08/2019  09:20 AM            20,736 raptor 26(cp).rap\n",
      "07/02/2019  06:49 PM         3,508,224 raptor2016.msi\n",
      "05/14/2019  01:55 AM        13,338,017 rar_password_unlocker_trial.exe\n",
      "05/25/2019  10:37 AM        16,261,344 RevoUninProSetup.exe\n",
      "07/08/2019  09:50 AM             4,971 s1.png\n",
      "07/08/2019  09:50 AM            10,157 s2.png\n",
      "07/08/2019  09:55 AM             8,813 s3.png\n",
      "07/08/2019  09:56 AM            11,629 s4.png\n",
      "07/04/2019  08:41 PM           223,485 Scratch Project.sb3\n",
      "05/06/2019  08:06 AM    <DIR>          SHAREit\n",
      "05/06/2019  08:04 AM         6,449,464 SHAREit-KCWEB.exe\n",
      "06/14/2019  12:46 AM         6,517,770 SleepingDogsFix by GAMESFIXER.rar\n",
      "06/09/2019  02:30 AM        15,304,528 TLauncher-2.53-Installer-0.5.2.exe\n",
      "05/25/2019  11:16 AM           221,237 ubiorbitapi_r2.rar\n",
      "07/08/2019  04:50 AM           343,040 UNIT IV Theory.doc\n",
      "06/09/2019  02:22 AM        32,354,788 vanilla-latest.zip\n",
      "07/11/2019  10:09 AM                 8 x\n",
      "07/10/2019  09:38 AM            34,956 XvGYyob-assassins-creed-hd-wallpaper.jpg\n",
      "              42 File(s)    164,159,816 bytes\n",
      "               6 Dir(s)  146,965,348,352 bytes free\n"
     ]
    }
   ],
   "source": [
    "ls"
   ]
  },
  {
   "cell_type": "code",
   "execution_count": 6,
   "metadata": {},
   "outputs": [
    {
     "name": "stdout",
     "output_type": "stream",
     "text": [
      "avgandsumofnum.ipynb\n",
      "celciustofarenheit.ipynb\n",
      "day 5(5-7-19).ipynb\n",
      "Day 6 (6-7-19).ipynb\n",
      "factors.png\n",
      "from task 8.ipynb\n",
      "largestof3nmb.ipynb\n",
      "leap year.ipynb\n",
      "leapyear.png\n",
      "leapyear.rap\n",
      "printoddtillnthnumb.ipynb\n",
      "rootsofquad.ipynb\n",
      "sum of odd series.ipynb\n",
      "sumofnnumb.ipynb\n",
      "till task 7.ipynb\n",
      "Untitled.ipynb\n",
      "verificationoftriangle.ipynb\n",
      "weekdayweeknum.ipynb\n",
      "weekdayweeknum.png\n"
     ]
    }
   ],
   "source": [
    "import os\n",
    "dirpath=\"Pythontasks/\"\n",
    "for i in os.listdir(dirpath):\n",
    "    if os.path.isfile(os.path.join(dirpath,i)):\n",
    "        print(i)"
   ]
  },
  {
   "cell_type": "code",
   "execution_count": 7,
   "metadata": {},
   "outputs": [
    {
     "data": {
      "text/plain": [
       "'C:\\\\Users\\\\Asus\\\\downloads'"
      ]
     },
     "execution_count": 7,
     "metadata": {},
     "output_type": "execute_result"
    }
   ],
   "source": [
    "pwd"
   ]
  },
  {
   "cell_type": "code",
   "execution_count": 8,
   "metadata": {},
   "outputs": [
    {
     "name": "stdout",
     "output_type": "stream",
     "text": [
      "avgandsumofnum.ipynb\n",
      "celciustofarenheit.ipynb\n",
      "day 5(5-7-19).ipynb\n",
      "Day 6 (6-7-19).ipynb\n",
      "factors.png\n",
      "from task 8.ipynb\n",
      "largestof3nmb.ipynb\n",
      "leap year.ipynb\n",
      "leapyear.png\n",
      "leapyear.rap\n",
      "printoddtillnthnumb.ipynb\n",
      "rootsofquad.ipynb\n",
      "sum of odd series.ipynb\n",
      "sumofnnumb.ipynb\n",
      "till task 7.ipynb\n",
      "Untitled.ipynb\n",
      "verificationoftriangle.ipynb\n",
      "weekdayweeknum.ipynb\n",
      "weekdayweeknum.png\n"
     ]
    }
   ],
   "source": [
    "dirpath='Pythontasks/'\n",
    "with os.scandir(dirpath) as f:\n",
    "    for i in f:\n",
    "        if i.is_file():\n",
    "            print(i.name)"
   ]
  },
  {
   "cell_type": "code",
   "execution_count": 9,
   "metadata": {},
   "outputs": [],
   "source": [
    "#creating single directory\n",
    "os.mkdir(\"pythonnew\")"
   ]
  },
  {
   "cell_type": "code",
   "execution_count": 10,
   "metadata": {},
   "outputs": [
    {
     "name": "stdout",
     "output_type": "stream",
     "text": [
      " Volume in drive C has no label.\n",
      " Volume Serial Number is 28C9-6826\n",
      "\n",
      " Directory of C:\\Users\\Asus\\downloads\n",
      "\n",
      "07/11/2019  02:44 PM    <DIR>          .\n",
      "07/11/2019  02:44 PM    <DIR>          ..\n",
      "07/11/2019  09:05 AM    <DIR>          .ipynb_checkpoints\n",
      "05/07/2019  07:35 AM             2,575 activator.cmd\n",
      "10/16/2018  01:33 AM            14,586 Assassin's.Creed.II - RELOADED.torrent\n",
      "07/10/2019  03:20 PM             4,786 assignment(10-7-19).ipynb\n",
      "07/10/2019  02:56 PM           122,081 assignment(10-7-19).pdf\n",
      "05/31/2019  10:13 AM            17,066 Call.of.Duty.4.Modern.Warfare - RELOADED.torrent\n",
      "05/21/2019  12:33 AM         2,043,232 chromeinstall-8u211.exe\n",
      "07/11/2019  02:44 PM            18,154 Day 10 (11-7-19).ipynb\n",
      "07/05/2019  03:22 AM            15,871 day 5(5-7-19).ipynb\n",
      "07/08/2019  09:59 AM            16,343 Day 7(8-7-19).ipynb\n",
      "07/10/2019  11:48 AM             9,728 Day 8 (9-7-19).ipynb\n",
      "07/10/2019  03:48 PM            10,895 Day 9(10-9-19).ipynb\n",
      "07/10/2019  01:07 PM           108,305 Day 9(10-9-19).pdf\n",
      "05/07/2019  07:43 AM        50,433,966 Dev-Cpp 5.11 TDM-GCC 4.9.2 Setup.exe\n",
      "07/08/2019  09:36 AM            10,243 factors.png\n",
      "07/11/2019  10:25 AM                28 filename.txt\n",
      "07/10/2019  09:37 AM           187,086 G3YUJoT-assasins-creed-wallpaper.jpg\n",
      "07/04/2019  02:18 AM    <DIR>          gitsolve\n",
      "07/10/2019  09:42 AM         7,641,537 ian-schneider-TamMbr4okv4-unsplash.jpg\n",
      "07/07/2019  06:08 AM               971 leap year.ipynb\n",
      "08/29/2018  08:56 AM         4,874,240 M5 Port-Ship interface IMO TTT course presentation final1.ppt\n",
      "05/21/2019  12:32 AM         1,478,560 Minecraft Team Extreme Launcher Repack By Mashup.rar\n",
      "05/21/2019  12:28 AM            14,129 Minecraft.PC.torrent\n",
      "07/10/2019  09:48 AM           158,962 minecraft_background_graphics_green_21194_1366x768.jpg\n",
      "06/09/2019  02:17 AM         1,957,888 MinecraftInstaller.msi\n",
      "07/10/2019  10:04 AM           401,059 orange_ice_mint_139564_1366x768.jpg\n",
      "07/08/2019  09:46 AM            11,397 primeornot.png\n",
      "07/11/2019  02:44 PM    <DIR>          pythonnew\n",
      "07/08/2019  09:36 AM    <DIR>          Pythontasks\n",
      "07/08/2019  09:20 AM            20,736 raptor 26(cp).rap\n",
      "07/02/2019  06:49 PM         3,508,224 raptor2016.msi\n",
      "05/14/2019  01:55 AM        13,338,017 rar_password_unlocker_trial.exe\n",
      "05/25/2019  10:37 AM        16,261,344 RevoUninProSetup.exe\n",
      "07/08/2019  09:50 AM             4,971 s1.png\n",
      "07/08/2019  09:50 AM            10,157 s2.png\n",
      "07/08/2019  09:55 AM             8,813 s3.png\n",
      "07/08/2019  09:56 AM            11,629 s4.png\n",
      "07/04/2019  08:41 PM           223,485 Scratch Project.sb3\n",
      "05/06/2019  08:06 AM    <DIR>          SHAREit\n",
      "05/06/2019  08:04 AM         6,449,464 SHAREit-KCWEB.exe\n",
      "06/14/2019  12:46 AM         6,517,770 SleepingDogsFix by GAMESFIXER.rar\n",
      "06/09/2019  02:30 AM        15,304,528 TLauncher-2.53-Installer-0.5.2.exe\n",
      "05/25/2019  11:16 AM           221,237 ubiorbitapi_r2.rar\n",
      "07/08/2019  04:50 AM           343,040 UNIT IV Theory.doc\n",
      "06/09/2019  02:22 AM        32,354,788 vanilla-latest.zip\n",
      "07/11/2019  10:09 AM                 8 x\n",
      "07/10/2019  09:38 AM            34,956 XvGYyob-assassins-creed-hd-wallpaper.jpg\n",
      "              42 File(s)    164,166,855 bytes\n",
      "               7 Dir(s)  146,964,590,592 bytes free\n"
     ]
    }
   ],
   "source": [
    "ls\n"
   ]
  },
  {
   "cell_type": "code",
   "execution_count": 12,
   "metadata": {},
   "outputs": [],
   "source": [
    "#creating multiple directories\n",
    "import os\n",
    "os.makedirs('sushantsir')"
   ]
  },
  {
   "cell_type": "code",
   "execution_count": 13,
   "metadata": {},
   "outputs": [
    {
     "name": "stdout",
     "output_type": "stream",
     "text": [
      " Volume in drive C has no label.\n",
      " Volume Serial Number is 28C9-6826\n",
      "\n",
      " Directory of C:\\Users\\Asus\\downloads\n",
      "\n",
      "07/11/2019  03:01 PM    <DIR>          .\n",
      "07/11/2019  03:01 PM    <DIR>          ..\n",
      "07/11/2019  09:05 AM    <DIR>          .ipynb_checkpoints\n",
      "05/07/2019  07:35 AM             2,575 activator.cmd\n",
      "10/16/2018  01:33 AM            14,586 Assassin's.Creed.II - RELOADED.torrent\n",
      "07/10/2019  03:20 PM             4,786 assignment(10-7-19).ipynb\n",
      "07/10/2019  02:56 PM           122,081 assignment(10-7-19).pdf\n",
      "05/31/2019  10:13 AM            17,066 Call.of.Duty.4.Modern.Warfare - RELOADED.torrent\n",
      "05/21/2019  12:33 AM         2,043,232 chromeinstall-8u211.exe\n",
      "07/11/2019  03:00 PM            22,424 Day 10 (11-7-19).ipynb\n",
      "07/05/2019  03:22 AM            15,871 day 5(5-7-19).ipynb\n",
      "07/08/2019  09:59 AM            16,343 Day 7(8-7-19).ipynb\n",
      "07/10/2019  11:48 AM             9,728 Day 8 (9-7-19).ipynb\n",
      "07/10/2019  03:48 PM            10,895 Day 9(10-9-19).ipynb\n",
      "07/10/2019  01:07 PM           108,305 Day 9(10-9-19).pdf\n",
      "05/07/2019  07:43 AM        50,433,966 Dev-Cpp 5.11 TDM-GCC 4.9.2 Setup.exe\n",
      "07/08/2019  09:36 AM            10,243 factors.png\n",
      "07/11/2019  10:25 AM                28 filename.txt\n",
      "07/10/2019  09:37 AM           187,086 G3YUJoT-assasins-creed-wallpaper.jpg\n",
      "07/04/2019  02:18 AM    <DIR>          gitsolve\n",
      "07/10/2019  09:42 AM         7,641,537 ian-schneider-TamMbr4okv4-unsplash.jpg\n",
      "07/07/2019  06:08 AM               971 leap year.ipynb\n",
      "08/29/2018  08:56 AM         4,874,240 M5 Port-Ship interface IMO TTT course presentation final1.ppt\n",
      "05/21/2019  12:32 AM         1,478,560 Minecraft Team Extreme Launcher Repack By Mashup.rar\n",
      "05/21/2019  12:28 AM            14,129 Minecraft.PC.torrent\n",
      "07/10/2019  09:48 AM           158,962 minecraft_background_graphics_green_21194_1366x768.jpg\n",
      "06/09/2019  02:17 AM         1,957,888 MinecraftInstaller.msi\n",
      "07/10/2019  10:04 AM           401,059 orange_ice_mint_139564_1366x768.jpg\n",
      "07/08/2019  09:46 AM            11,397 primeornot.png\n",
      "07/11/2019  02:44 PM    <DIR>          pythonnew\n",
      "07/08/2019  09:36 AM    <DIR>          Pythontasks\n",
      "07/08/2019  09:20 AM            20,736 raptor 26(cp).rap\n",
      "07/02/2019  06:49 PM         3,508,224 raptor2016.msi\n",
      "05/14/2019  01:55 AM        13,338,017 rar_password_unlocker_trial.exe\n",
      "05/25/2019  10:37 AM        16,261,344 RevoUninProSetup.exe\n",
      "07/08/2019  09:50 AM             4,971 s1.png\n",
      "07/08/2019  09:50 AM            10,157 s2.png\n",
      "07/08/2019  09:55 AM             8,813 s3.png\n",
      "07/08/2019  09:56 AM            11,629 s4.png\n",
      "07/04/2019  08:41 PM           223,485 Scratch Project.sb3\n",
      "05/06/2019  08:06 AM    <DIR>          SHAREit\n",
      "05/06/2019  08:04 AM         6,449,464 SHAREit-KCWEB.exe\n",
      "06/14/2019  12:46 AM         6,517,770 SleepingDogsFix by GAMESFIXER.rar\n",
      "07/11/2019  03:01 PM    <DIR>          sushantsir\n",
      "06/09/2019  02:30 AM        15,304,528 TLauncher-2.53-Installer-0.5.2.exe\n",
      "05/25/2019  11:16 AM           221,237 ubiorbitapi_r2.rar\n",
      "07/08/2019  04:50 AM           343,040 UNIT IV Theory.doc\n",
      "06/09/2019  02:22 AM        32,354,788 vanilla-latest.zip\n",
      "07/11/2019  10:09 AM                 8 x\n",
      "07/10/2019  09:38 AM            34,956 XvGYyob-assassins-creed-hd-wallpaper.jpg\n",
      "              42 File(s)    164,171,125 bytes\n",
      "               8 Dir(s)  146,963,656,704 bytes free\n"
     ]
    }
   ],
   "source": [
    "ls"
   ]
  },
  {
   "cell_type": "code",
   "execution_count": 18,
   "metadata": {},
   "outputs": [
    {
     "name": "stdout",
     "output_type": "stream",
     "text": [
      "avgandsumofnum.ipynb\n",
      "celciustofarenheit.ipynb\n",
      "day 5(5-7-19).ipynb\n",
      "Day 6 (6-7-19).ipynb\n",
      "from task 8.ipynb\n",
      "largestof3nmb.ipynb\n",
      "leap year.ipynb\n",
      "printoddtillnthnumb.ipynb\n",
      "rootsofquad.ipynb\n",
      "sum of odd series.ipynb\n",
      "sumofnnumb.ipynb\n",
      "till task 7.ipynb\n",
      "Untitled.ipynb\n",
      "verificationoftriangle.ipynb\n",
      "weekdayweeknum.ipynb\n"
     ]
    }
   ],
   "source": [
    "#filename pattern patching\n",
    "import os\n",
    "dirpath='Pythontasks/'\n",
    "for f_name in os.listdir(dirpath):\n",
    "    if f_name.endswith('.ipynb'):\n",
    "        print(f_name)"
   ]
  },
  {
   "cell_type": "code",
   "execution_count": 16,
   "metadata": {},
   "outputs": [
    {
     "data": {
      "text/plain": [
       "'C:\\\\Users\\\\Asus\\\\downloads'"
      ]
     },
     "execution_count": 16,
     "metadata": {},
     "output_type": "execute_result"
    }
   ],
   "source": [
    "pwd"
   ]
  },
  {
   "cell_type": "code",
   "execution_count": null,
   "metadata": {},
   "outputs": [],
   "source": [
    "import os#deleting files\n",
    "data.file="
   ]
  }
 ],
 "metadata": {
  "kernelspec": {
   "display_name": "Python 3",
   "language": "python",
   "name": "python3"
  },
  "language_info": {
   "codemirror_mode": {
    "name": "ipython",
    "version": 3
   },
   "file_extension": ".py",
   "mimetype": "text/x-python",
   "name": "python",
   "nbconvert_exporter": "python",
   "pygments_lexer": "ipython3",
   "version": "3.7.3"
  }
 },
 "nbformat": 4,
 "nbformat_minor": 2
}
